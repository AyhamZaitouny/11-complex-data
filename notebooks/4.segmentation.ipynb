{
 "cells": [
  {
   "cell_type": "markdown",
   "metadata": {},
   "source": [
    "# Detect lithological boundaries using Quadrant Scan"
   ]
  },
  {
   "cell_type": "markdown",
   "metadata": {},
   "source": [
    "In this notebook, we will test the Quadrant Scan technique to analyse a multivariate, noisy, and nonstationary data set.\n",
    "\n",
    "The data set includes petrophysical profiles from well_log measures. Namely, DTCO, ECGR, HART, PEFZ, RHOZ, TNPH.\n",
    "The data includes 7688 depth samples. Refering to the following petrophysical profiles density, electrical resistivity, sonic velocity, natural radioactivity, mean atomic number and neutron porosity\n",
    "\n",
    "The idea of this exercise is to use the Quadrant Scan to detect transision in the data profiles to identify the lithological boundaries."
   ]
  },
  {
   "cell_type": "markdown",
   "metadata": {},
   "source": [
    "# Import libraries and define functions"
   ]
  },
  {
   "cell_type": "code",
   "execution_count": 2,
   "metadata": {},
   "outputs": [],
   "source": [
    "from __future__ import division\n",
    "import numpy as np\n",
    "import pandas as pd\n",
    "import scipy.io as sio\n",
    "import matplotlib.pyplot as plt\n",
    "import time\n",
    "import scipy\n",
    "\n",
    "from scipy.stats import pearsonr\n",
    "import scipy.sparse as sparse\n",
    "from IPython.display import Latex\n",
    "from matplotlib.pyplot import imshow\n",
    "from numba import jit\n",
    "\n",
    "%matplotlib inline\n",
    "\n",
    "##Recurrence Plot matrix\n",
    "## This function is constructing the recurrence plot matrix based on the threshold alpha\n",
    "\n",
    "def RecurrenceMatrix(x, alpha):\n",
    "    \n",
    "    distance = scipy.spatial.distance.pdist(x, 'euclidean')\n",
    "    #distance = scipy.spatial.distance.pdist(embedded, 'seuclidean',V=None)\n",
    "    #distance = scipy.spatial.distance.pdist(embedded, 'canberra')\n",
    "    #distance = scipy.spatial.distance.pdist(embedded, 'mahalanobis', VI=None)\n",
    "    distance = scipy.spatial.distance.squareform(distance)\n",
    "    \n",
    "    threshold = alpha*(distance.mean()+3*distance.std())\n",
    "    \n",
    "    #Recurrence Plot Matrix\n",
    "    RM=np.array(distance<=threshold,dtype='int')\n",
    "    \n",
    "    return RM\n",
    "\n",
    "\n",
    "\n",
    "##Quadrant Scan\n",
    "## This function is employing the Quadrant Scan technique on input x (univariate or multivariate) using:\n",
    "## the recuurence plot threshold alpha, the weighting parameters m1 and m2.\n",
    "\n",
    "def WeightQS2(x, alpha, m1, m2):\n",
    "    \n",
    "    RM=RecurrenceMatrix(x, alpha)\n",
    "    \n",
    "    qs=np.zeros(len(x))\n",
    "    for ii in range(1, len(x)):\n",
    "        weightp = 0.5*(1-np.tanh((np.arange(1,ii+1)-m1)/m2))\n",
    "        weightp = weightp[::-1]\n",
    "        weightf = 0.5*(1-np.tanh((np.arange(1,len(x)-ii+1)-m1)/m2))\n",
    "        \n",
    "        weightpp = weightp[:,None]*weightp[None,:]\n",
    "        weightpp = weightpp/weightpp[-1,-1]\n",
    "        \n",
    "        weightff = weightf[:,None]*weightf[None,:]\n",
    "        weightff = weightff/weightff[0,0]\n",
    "        \n",
    "        weightpf=weightp[:,None]*weightf[None,:]\n",
    "        weightpf /= weightpf[-1,0]\n",
    "        \n",
    "        weightfp=weightf[:,None]*weightp[None,:]\n",
    "        weightfp /= weightfp[0,-1]\n",
    "       \n",
    "        pp =  RM[:ii,:ii] * weightpp\n",
    "        \n",
    "        ff = RM[ii-1:-1,ii-1:-1] * weightff\n",
    "        \n",
    "        pf = RM[:ii,ii-1:-1] * weightpf\n",
    "        \n",
    "        fp = RM[ii-1:-1,:ii] * weightfp\n",
    "        \n",
    "        qs1 = np.sum(pp)+np.sum(ff)\n",
    "        qs2 = np.sum(pf)+np.sum(fp)\n",
    "        qs[ii] = qs1/(qs1+qs2)\n",
    "        \n",
    "    return qs\n",
    "\n"
   ]
  },
  {
   "cell_type": "markdown",
   "metadata": {},
   "source": [
    "# Reading the data file"
   ]
  },
  {
   "cell_type": "code",
   "execution_count": 3,
   "metadata": {},
   "outputs": [],
   "source": [
    "Petrophysical_data = pd.read_csv('../data/Petrophysical_data.csv')"
   ]
  },
  {
   "cell_type": "code",
   "execution_count": 4,
   "metadata": {
    "scrolled": true
   },
   "outputs": [
    {
     "data": {
      "text/html": [
       "<div>\n",
       "<style scoped>\n",
       "    .dataframe tbody tr th:only-of-type {\n",
       "        vertical-align: middle;\n",
       "    }\n",
       "\n",
       "    .dataframe tbody tr th {\n",
       "        vertical-align: top;\n",
       "    }\n",
       "\n",
       "    .dataframe thead th {\n",
       "        text-align: right;\n",
       "    }\n",
       "</style>\n",
       "<table border=\"1\" class=\"dataframe\">\n",
       "  <thead>\n",
       "    <tr style=\"text-align: right;\">\n",
       "      <th></th>\n",
       "      <th>DEPTH</th>\n",
       "      <th>DTCO</th>\n",
       "      <th>ECGR</th>\n",
       "      <th>HART</th>\n",
       "      <th>PEFZ</th>\n",
       "      <th>RHOZ</th>\n",
       "      <th>TNPH</th>\n",
       "      <th>Gelogical layer</th>\n",
       "    </tr>\n",
       "  </thead>\n",
       "  <tbody>\n",
       "    <tr>\n",
       "      <th>0</th>\n",
       "      <td>2207.057</td>\n",
       "      <td>73.166</td>\n",
       "      <td>36.884</td>\n",
       "      <td>2.016</td>\n",
       "      <td>4.214</td>\n",
       "      <td>2.437</td>\n",
       "      <td>0.149</td>\n",
       "      <td>1</td>\n",
       "    </tr>\n",
       "    <tr>\n",
       "      <th>1</th>\n",
       "      <td>2207.209</td>\n",
       "      <td>74.623</td>\n",
       "      <td>39.817</td>\n",
       "      <td>1.821</td>\n",
       "      <td>4.212</td>\n",
       "      <td>2.438</td>\n",
       "      <td>0.156</td>\n",
       "      <td>1</td>\n",
       "    </tr>\n",
       "    <tr>\n",
       "      <th>2</th>\n",
       "      <td>2207.362</td>\n",
       "      <td>74.979</td>\n",
       "      <td>42.094</td>\n",
       "      <td>1.758</td>\n",
       "      <td>4.182</td>\n",
       "      <td>2.434</td>\n",
       "      <td>0.163</td>\n",
       "      <td>1</td>\n",
       "    </tr>\n",
       "    <tr>\n",
       "      <th>3</th>\n",
       "      <td>2207.514</td>\n",
       "      <td>73.891</td>\n",
       "      <td>39.149</td>\n",
       "      <td>1.700</td>\n",
       "      <td>4.088</td>\n",
       "      <td>2.429</td>\n",
       "      <td>0.171</td>\n",
       "      <td>1</td>\n",
       "    </tr>\n",
       "    <tr>\n",
       "      <th>4</th>\n",
       "      <td>2207.666</td>\n",
       "      <td>74.385</td>\n",
       "      <td>36.679</td>\n",
       "      <td>1.641</td>\n",
       "      <td>3.980</td>\n",
       "      <td>2.421</td>\n",
       "      <td>0.172</td>\n",
       "      <td>1</td>\n",
       "    </tr>\n",
       "  </tbody>\n",
       "</table>\n",
       "</div>"
      ],
      "text/plain": [
       "      DEPTH    DTCO    ECGR   HART   PEFZ   RHOZ   TNPH  Gelogical layer\n",
       "0  2207.057  73.166  36.884  2.016  4.214  2.437  0.149                1\n",
       "1  2207.209  74.623  39.817  1.821  4.212  2.438  0.156                1\n",
       "2  2207.362  74.979  42.094  1.758  4.182  2.434  0.163                1\n",
       "3  2207.514  73.891  39.149  1.700  4.088  2.429  0.171                1\n",
       "4  2207.666  74.385  36.679  1.641  3.980  2.421  0.172                1"
      ]
     },
     "execution_count": 4,
     "metadata": {},
     "output_type": "execute_result"
    }
   ],
   "source": [
    "Petrophysical_data.head()"
   ]
  },
  {
   "cell_type": "code",
   "execution_count": 5,
   "metadata": {},
   "outputs": [],
   "source": [
    "xx = pd.DataFrame(Petrophysical_data[['DTCO','ECGR']])"
   ]
  },
  {
   "cell_type": "code",
   "execution_count": 6,
   "metadata": {},
   "outputs": [
    {
     "data": {
      "text/html": [
       "<div>\n",
       "<style scoped>\n",
       "    .dataframe tbody tr th:only-of-type {\n",
       "        vertical-align: middle;\n",
       "    }\n",
       "\n",
       "    .dataframe tbody tr th {\n",
       "        vertical-align: top;\n",
       "    }\n",
       "\n",
       "    .dataframe thead th {\n",
       "        text-align: right;\n",
       "    }\n",
       "</style>\n",
       "<table border=\"1\" class=\"dataframe\">\n",
       "  <thead>\n",
       "    <tr style=\"text-align: right;\">\n",
       "      <th></th>\n",
       "      <th>DTCO</th>\n",
       "      <th>ECGR</th>\n",
       "    </tr>\n",
       "  </thead>\n",
       "  <tbody>\n",
       "    <tr>\n",
       "      <th>0</th>\n",
       "      <td>73.166</td>\n",
       "      <td>36.884</td>\n",
       "    </tr>\n",
       "    <tr>\n",
       "      <th>1</th>\n",
       "      <td>74.623</td>\n",
       "      <td>39.817</td>\n",
       "    </tr>\n",
       "    <tr>\n",
       "      <th>2</th>\n",
       "      <td>74.979</td>\n",
       "      <td>42.094</td>\n",
       "    </tr>\n",
       "    <tr>\n",
       "      <th>3</th>\n",
       "      <td>73.891</td>\n",
       "      <td>39.149</td>\n",
       "    </tr>\n",
       "    <tr>\n",
       "      <th>4</th>\n",
       "      <td>74.385</td>\n",
       "      <td>36.679</td>\n",
       "    </tr>\n",
       "  </tbody>\n",
       "</table>\n",
       "</div>"
      ],
      "text/plain": [
       "     DTCO    ECGR\n",
       "0  73.166  36.884\n",
       "1  74.623  39.817\n",
       "2  74.979  42.094\n",
       "3  73.891  39.149\n",
       "4  74.385  36.679"
      ]
     },
     "execution_count": 6,
     "metadata": {},
     "output_type": "execute_result"
    }
   ],
   "source": [
    "xx.head()"
   ]
  },
  {
   "cell_type": "markdown",
   "metadata": {},
   "source": [
    "# Implement the Quadrant Scan\n",
    "\n",
    "There are three paramteres to set up. \n",
    "alpha --> the recurrence plot threshold, this can be varied for multiscale detection, Good choice for the data at hand is 0.2\n",
    "m1, m2 are the weighting scheme parameters as demonstrated in the slides, an appropraite setting for the the data at hand is m1=200, m2=50. You could try different settings such as m1=100, m2=25 or m1=50, m2=10"
   ]
  },
  {
   "cell_type": "markdown",
   "metadata": {},
   "source": [
    "## Input a single variable\n",
    "\n",
    "Choose one variable and run the Quadrant Scan for 3000 depth samples"
   ]
  },
  {
   "cell_type": "code",
   "execution_count": 7,
   "metadata": {},
   "outputs": [],
   "source": [
    "xx = pd.DataFrame(Petrophysical_data[['ECGR']])\n",
    "QS = WeightQS2(np.array(xx)[0:3000], 0.2, 200, 50)\n"
   ]
  },
  {
   "cell_type": "code",
   "execution_count": 8,
   "metadata": {},
   "outputs": [
    {
     "data": {
      "image/png": "[encoded data removed]",
      "text/plain": [
       "<Figure size 432x288 with 2 Axes>"
      ]
     },
     "metadata": {
      "needs_background": "light"
     },
     "output_type": "display_data"
    }
   ],
   "source": [
    "f1 = plt.figure()\n",
    "\n",
    "plt.subplot(1, 2, 1)\n",
    "plt.plot(QS, np.array(Petrophysical_data['DEPTH'][0:3000]))\n",
    "plt.gca().invert_yaxis()\n",
    "plt.title('Boundary detection')\n",
    "plt.xlabel('QS')\n",
    "plt.ylabel('Depth')\n",
    "\n",
    "plt.subplot(1, 2, 2)\n",
    "plt.plot(np.array(Petrophysical_data['ECGR'][0:3000]), np.array(Petrophysical_data['DEPTH'][0:3000]))\n",
    "plt.gca().invert_yaxis()\n",
    "#plt.title('Boundary detection')\n",
    "plt.xlabel('ECGR')\n",
    "plt.ylabel('Depth')\n",
    "\n",
    "f1.tight_layout()"
   ]
  },
  {
   "cell_type": "markdown",
   "metadata": {},
   "source": [
    "## Now try for another variable "
   ]
  },
  {
   "cell_type": "code",
   "execution_count": 9,
   "metadata": {},
   "outputs": [],
   "source": [
    "x2 = pd.DataFrame(Petrophysical_data[['HART']])\n",
    "QS2 = WeightQS2(np.array(x2)[1000:3000], 0.2, 200, 50)"
   ]
  },
  {
   "cell_type": "code",
   "execution_count": 10,
   "metadata": {},
   "outputs": [
    {
     "data": {
      "image/png": "[encoded data removed]",
      "text/plain": [
       "<Figure size 432x288 with 2 Axes>"
      ]
     },
     "metadata": {
      "needs_background": "light"
     },
     "output_type": "display_data"
    }
   ],
   "source": [
    "f1 = plt.figure()\n",
    "\n",
    "plt.subplot(1, 2, 1)\n",
    "plt.plot(QS2, np.array(Petrophysical_data['DEPTH'][1000:3000]))\n",
    "plt.gca().invert_yaxis()\n",
    "plt.title('Boundary detection')\n",
    "plt.xlabel('QS')\n",
    "plt.ylabel('Depth')\n",
    "\n",
    "plt.subplot(1, 2, 2)\n",
    "plt.plot(np.array(Petrophysical_data['HART'][1000:3000]), np.array(Petrophysical_data['DEPTH'][1000:3000]))\n",
    "plt.gca().invert_yaxis()\n",
    "#plt.title('Boundary detection')\n",
    "plt.xlabel('HART')\n",
    "plt.ylabel('Depth')\n",
    "\n",
    "f1.tight_layout()"
   ]
  },
  {
   "cell_type": "markdown",
   "metadata": {},
   "source": [
    "## Now combine the variables and use multivariate input"
   ]
  },
  {
   "cell_type": "code",
   "execution_count": 11,
   "metadata": {},
   "outputs": [],
   "source": [
    "x3 = pd.DataFrame(Petrophysical_data[['HART','ECGR']])\n",
    "QS2 = WeightQS2(np.array(x2)[1000:3000], 0.2, 200, 50)"
   ]
  },
  {
   "cell_type": "code",
   "execution_count": 12,
   "metadata": {},
   "outputs": [
    {
     "data": {
      "image/png": "[encoded data removed]",
      "text/plain": [
       "<Figure size 432x288 with 3 Axes>"
      ]
     },
     "metadata": {
      "needs_background": "light"
     },
     "output_type": "display_data"
    }
   ],
   "source": [
    "f2 = plt.figure()\n",
    "\n",
    "plt.subplot(1, 3, 1)\n",
    "plt.plot(QS2, np.array(Petrophysical_data['DEPTH'][1000:3000]))\n",
    "plt.gca().invert_yaxis()\n",
    "plt.title('Boundary detection')\n",
    "plt.xlabel('QS')\n",
    "plt.ylabel('Depth')\n",
    "\n",
    "plt.subplot(1, 3, 2)\n",
    "plt.plot(np.array(Petrophysical_data['HART'][1000:3000]), np.array(Petrophysical_data['DEPTH'][1000:3000]))\n",
    "plt.gca().invert_yaxis()\n",
    "#plt.title('Boundary detection')\n",
    "plt.xlabel('HART')\n",
    "plt.ylabel('Depth')\n",
    "\n",
    "plt.subplot(1, 3, 3)\n",
    "plt.plot(np.array(Petrophysical_data['ECGR'][1000:3000]), np.array(Petrophysical_data['DEPTH'][1000:3000]))\n",
    "plt.gca().invert_yaxis()\n",
    "#plt.title('Boundary detection')\n",
    "plt.xlabel('ECGR')\n",
    "plt.ylabel('Depth')\n",
    "\n",
    "f2.tight_layout()"
   ]
  },
  {
   "cell_type": "code",
   "execution_count": null,
   "metadata": {},
   "outputs": [],
   "source": []
  }
 ],
 "metadata": {
  "kernelspec": {
   "display_name": "Python 3",
   "language": "python",
   "name": "python3"
  },
  "language_info": {
   "codemirror_mode": {
    "name": "ipython",
    "version": 3
   },
   "file_extension": ".py",
   "mimetype": "text/x-python",
   "name": "python",
   "nbconvert_exporter": "python",
   "pygments_lexer": "ipython3",
   "version": "3.6.10"
  }
 },
 "nbformat": 4,
 "nbformat_minor": 2
}
