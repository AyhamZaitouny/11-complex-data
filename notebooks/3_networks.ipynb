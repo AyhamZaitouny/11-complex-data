{
 "cells": [
  {
   "cell_type": "markdown",
   "metadata": {},
   "source": [
    "In what follows we will demonstrate some of the basic network capabilities of the networkx package, but first we need some network data to play with. I sugest obtaining you linkedin contact network - it is straightforward to download your linkedin contacts, but the connections between them are unknown. For the purposes of illustation we will employ a few simple heuristics to obtain a more natural looking network. Instructions for obtaining the network from linkedin are on the blog post https://towardsdatascience.com/visualizing-my-linkedin-network-c4b232ab2ad0 and breifly summarised in the course notes."
   ]
  },
  {
   "cell_type": "code",
   "execution_count": 1,
   "metadata": {},
   "outputs": [
    {
     "data": {
      "text/html": [
       "<div>\n",
       "<style scoped>\n",
       "    .dataframe tbody tr th:only-of-type {\n",
       "        vertical-align: middle;\n",
       "    }\n",
       "\n",
       "    .dataframe tbody tr th {\n",
       "        vertical-align: top;\n",
       "    }\n",
       "\n",
       "    .dataframe thead th {\n",
       "        text-align: right;\n",
       "    }\n",
       "</style>\n",
       "<table border=\"1\" class=\"dataframe\">\n",
       "  <thead>\n",
       "    <tr style=\"text-align: right;\">\n",
       "      <th></th>\n",
       "      <th>First Name</th>\n",
       "      <th>Last Name</th>\n",
       "      <th>Email Address</th>\n",
       "      <th>Company</th>\n",
       "      <th>Position</th>\n",
       "      <th>Connected On</th>\n",
       "    </tr>\n",
       "  </thead>\n",
       "  <tbody>\n",
       "    <tr>\n",
       "      <th>0</th>\n",
       "      <td>Rasit</td>\n",
       "      <td>Abay</td>\n",
       "      <td>NaN</td>\n",
       "      <td>UNSW Canberra</td>\n",
       "      <td>PhD Candidate (Astrodynamics &amp; Machine Learning)</td>\n",
       "      <td>07 Mar 2020</td>\n",
       "    </tr>\n",
       "    <tr>\n",
       "      <th>1</th>\n",
       "      <td>Ximena</td>\n",
       "      <td>Aguirre</td>\n",
       "      <td>NaN</td>\n",
       "      <td>Milenio Diario</td>\n",
       "      <td>Gerente Corporativo Sr Sustentabilidad</td>\n",
       "      <td>28 Feb 2020</td>\n",
       "    </tr>\n",
       "    <tr>\n",
       "      <th>2</th>\n",
       "      <td>Tyler</td>\n",
       "      <td>Bikaun</td>\n",
       "      <td>NaN</td>\n",
       "      <td>Wood</td>\n",
       "      <td>Graduate Mechanical Engineer</td>\n",
       "      <td>28 Feb 2020</td>\n",
       "    </tr>\n",
       "    <tr>\n",
       "      <th>3</th>\n",
       "      <td>Malka N.</td>\n",
       "      <td>Halgamuge</td>\n",
       "      <td>malka.nisha@unimelb.edu.au</td>\n",
       "      <td>Department of Electrical and Electronic Engine...</td>\n",
       "      <td>Research Scientist</td>\n",
       "      <td>24 Feb 2020</td>\n",
       "    </tr>\n",
       "    <tr>\n",
       "      <th>4</th>\n",
       "      <td>Sanal</td>\n",
       "      <td>Panicker</td>\n",
       "      <td>NaN</td>\n",
       "      <td>Community News</td>\n",
       "      <td>Database Manager</td>\n",
       "      <td>23 Feb 2020</td>\n",
       "    </tr>\n",
       "  </tbody>\n",
       "</table>\n",
       "</div>"
      ],
      "text/plain": [
       "  First Name  Last Name               Email Address  \\\n",
       "0      Rasit       Abay                         NaN   \n",
       "1     Ximena   Aguirre                          NaN   \n",
       "2      Tyler     Bikaun                         NaN   \n",
       "3   Malka N.  Halgamuge  malka.nisha@unimelb.edu.au   \n",
       "4      Sanal   Panicker                         NaN   \n",
       "\n",
       "                                             Company  \\\n",
       "0                                      UNSW Canberra   \n",
       "1                                     Milenio Diario   \n",
       "2                                               Wood   \n",
       "3  Department of Electrical and Electronic Engine...   \n",
       "4                                     Community News   \n",
       "\n",
       "                                           Position Connected On  \n",
       "0  PhD Candidate (Astrodynamics & Machine Learning)  07 Mar 2020  \n",
       "1            Gerente Corporativo Sr Sustentabilidad  28 Feb 2020  \n",
       "2                      Graduate Mechanical Engineer  28 Feb 2020  \n",
       "3                                Research Scientist  24 Feb 2020  \n",
       "4                                  Database Manager  23 Feb 2020  "
      ]
     },
     "execution_count": 1,
     "metadata": {},
     "output_type": "execute_result"
    }
   ],
   "source": [
    "#credit for what follows: https://towardsdatascience.com/visualizing-my-linkedin-network-c4b232ab2ad0\n",
    "import pandas as pd\n",
    "df = pd.read_csv('../data/Connections.csv')\n",
    "df.head()"
   ]
  },
  {
   "cell_type": "markdown",
   "metadata": {},
   "source": [
    "Now, we should tidy up the linkedin data a little. Most likely, you'll have some anonymous/nameless individuals in your contact list (atleast I do). Seek them out and assign them generic but unique names."
   ]
  },
  {
   "cell_type": "code",
   "execution_count": 2,
   "metadata": {},
   "outputs": [],
   "source": [
    "#replace the NaNs with strings\n",
    "i=1\n",
    "for ind in df.index:\n",
    "    if isinstance(df['First Name'][ind] ,str) & isinstance(df['Last Name'][ind] ,str) :\n",
    "        #do nothing\n",
    "        pass #empty if statements confuse python\n",
    "    else :\n",
    "        df['First Name'][ind]='FirstName'+str(i)\n",
    "        df['Last Name'][ind]='LastName'+str(i)\n",
    "        i+=1"
   ]
  },
  {
   "cell_type": "markdown",
   "metadata": {},
   "source": [
    "Now we are ready to construct a network. Admittedly, this construction is a little artificial for linkedin data. But, this serves as a good demonstration of using network representations to seek out coincidence, and structure in unstructured data. Do contacts cluster? In what follows, we map each individual to a node and connect nodes if the individuals: (a) are from the same company, or (b) connected over linkedin within a short time window of each other. For your own data set, you may want to adjust the window."
   ]
  },
  {
   "cell_type": "code",
   "execution_count": 3,
   "metadata": {},
   "outputs": [],
   "source": [
    "import networkx as nx\n",
    "import matplotlib.pyplot as plt\n",
    "from datetime import timedelta, datetime\n",
    "\n",
    "\n",
    "G=nx.Graph()\n",
    "for nodei in df.index:    \n",
    "    nodeilabel= df['First Name'][nodei]+\" \"+df['Last Name'][nodei]\n",
    "    nodeitime=df['Connected On'][nodei]\n",
    "    nodeicomp=df['Company'][nodei]\n",
    "    for nodej in df.index:\n",
    "        if nodei!=nodej:\n",
    "            if nodeicomp==df['Company'][nodej]: #are the nodes from the same company?\n",
    "                G.add_edge(nodeilabel,df['First Name'][nodej]+\" \"+df['Last Name'][nodej])\n",
    "            date1=datetime.strptime(nodeitime, '%d %b %Y').date()\n",
    "            date2=datetime.strptime(df['Connected On'][nodej], '%d %b %Y').date()\n",
    "            if (abs(date2-date1)<timedelta(days=1)): #are the nodes from the same time?\n",
    "                G.add_edge(nodeilabel,df['First Name'][nodej]+\" \"+df['Last Name'][nodej])"
   ]
  },
  {
   "cell_type": "code",
   "execution_count": 4,
   "metadata": {},
   "outputs": [
    {
     "data": {
      "image/png": "[encoded data removed]",
      "text/plain": [
       "<Figure size 432x288 with 1 Axes>"
      ]
     },
     "metadata": {},
     "output_type": "display_data"
    }
   ],
   "source": [
    "nx.draw_kamada_kawai(G)"
   ]
  },
  {
   "cell_type": "markdown",
   "metadata": {},
   "source": [
    "We don't have time to go through all this here, but in what follows we can run through the computation of some of the network quantities discussed before. Are the high ranked individuals important? Are they clustered? Do the clusters correspond to meaningful organisation/groups/themes? (For my linkedin network they do)."
   ]
  },
  {
   "cell_type": "code",
   "execution_count": 9,
   "metadata": {
    "scrolled": true
   },
   "outputs": [
    {
     "name": "stdout",
     "output_type": "stream",
     "text": [
      "Top 20 nodes by degree:\n",
      "('John Dell', 30)\n",
      "('Dilusha Silva', 27)\n",
      "('Sue Robson', 26)\n",
      "('Simon Biggs', 26)\n",
      "('Edgar Basto Piamonte', 26)\n",
      "('Annabel Williamson GAICD', 25)\n",
      "('Mark Reynolds', 25)\n",
      "('Benjamin Stone', 25)\n",
      "('Sean Hood', 25)\n",
      "('David Walker', 25)\n",
      "('Joanna Elfving-Hwang', 24)\n",
      "('Kathrin Stroud', 24)\n",
      "('Anas Ghadouani', 24)\n",
      "('Eun-Jung Holden', 24)\n",
      "('Michael Bertolacci', 24)\n",
      "('Peter Dean', 24)\n",
      "('Rob Shannon', 24)\n",
      "('Claire Walker', 24)\n",
      "('Cristina Vulpe', 24)\n",
      "('Mitchell Chiew', 24)\n"
     ]
    }
   ],
   "source": [
    "#Credit: the following code is from https://programminghistorian.org/en/lessons/exploring-and-analyzing-network-data-with-python#centrality\n",
    "from operator import itemgetter\n",
    "\n",
    "degree_dict = dict(G.degree(G.nodes()))\n",
    "nx.set_node_attributes(G, degree_dict, 'degree')\n",
    "sorted_degree = sorted(degree_dict.items(), key=itemgetter(1), reverse=True)\n",
    "print(\"Top 20 nodes by degree:\")\n",
    "for d in sorted_degree[:20]:\n",
    "    print(d)"
   ]
  },
  {
   "cell_type": "code",
   "execution_count": 10,
   "metadata": {},
   "outputs": [],
   "source": [
    "betweenness_dict = nx.betweenness_centrality(G) # Run betweenness centrality\n",
    "eigenvector_dict = nx.eigenvector_centrality(G) # Run eigenvector centrality\n",
    "\n",
    "# Assign each to an attribute in your network\n",
    "nx.set_node_attributes(G, betweenness_dict, 'betweenness')\n",
    "nx.set_node_attributes(G, eigenvector_dict, 'eigenvector')"
   ]
  },
  {
   "cell_type": "code",
   "execution_count": 11,
   "metadata": {},
   "outputs": [
    {
     "name": "stdout",
     "output_type": "stream",
     "text": [
      "Top 20 nodes by betweenness centrality:\n",
      "('John Dell', 0.0059481443823080835)\n",
      "('Grant Douglas', 0.0038637519064565326)\n",
      "('Dilusha Silva', 0.003202846975088968)\n",
      "('Sue Robson', 0.0021860701576004067)\n",
      "('Simon Biggs', 0.0021860701576004067)\n",
      "('Benjamin Stone', 0.0021860701576004067)\n",
      "('Edgar Basto Piamonte', 0.0021860701576004067)\n",
      "('nariman mahdavi', 0.0012709710218607015)\n",
      "('Annabel Williamson GAICD', 0.0011184544992374173)\n",
      "('Mark Reynolds', 0.0011184544992374173)\n",
      "('Sean Hood', 0.0011184544992374173)\n",
      "('David Walker', 0.0011184544992374173)\n",
      "('Zhang Xin', 0.0011184544992374173)\n",
      "('Gaurav Singh', 0.0010167768174885613)\n",
      "('Hayley Mcgillivray', 0.0008769700050838841)\n",
      "('Jelena Markov', 0.0008769700050838841)\n",
      "('Phil Newman', 0.000762582613116421)\n",
      "('Brendan Florio', 0.0006609049313675648)\n",
      "('Jens Klump', 0.0006609049313675648)\n",
      "('Michael McWilliams', 0.0006609049313675648)\n"
     ]
    }
   ],
   "source": [
    "sorted_betweenness = sorted(betweenness_dict.items(), key=itemgetter(1), reverse=True)\n",
    "\n",
    "print(\"Top 20 nodes by betweenness centrality:\")\n",
    "for b in sorted_betweenness[:20]:\n",
    "    print(b)"
   ]
  },
  {
   "cell_type": "code",
   "execution_count": 12,
   "metadata": {},
   "outputs": [
    {
     "name": "stdout",
     "output_type": "stream",
     "text": [
      "Name: John Dell | Betweenness Centrality: 0.0059481443823080835 | Degree: 30\n",
      "Name: Grant Douglas | Betweenness Centrality: 0.0038637519064565326 | Degree: 19\n",
      "Name: Dilusha Silva | Betweenness Centrality: 0.003202846975088968 | Degree: 27\n",
      "Name: Sue Robson | Betweenness Centrality: 0.0021860701576004067 | Degree: 26\n",
      "Name: Simon Biggs | Betweenness Centrality: 0.0021860701576004067 | Degree: 26\n",
      "Name: Benjamin Stone | Betweenness Centrality: 0.0021860701576004067 | Degree: 25\n",
      "Name: Edgar Basto Piamonte | Betweenness Centrality: 0.0021860701576004067 | Degree: 26\n",
      "Name: nariman mahdavi | Betweenness Centrality: 0.0012709710218607015 | Degree: 14\n",
      "Name: Annabel Williamson GAICD | Betweenness Centrality: 0.0011184544992374173 | Degree: 25\n",
      "Name: Mark Reynolds | Betweenness Centrality: 0.0011184544992374173 | Degree: 25\n",
      "Name: Sean Hood | Betweenness Centrality: 0.0011184544992374173 | Degree: 25\n",
      "Name: David Walker | Betweenness Centrality: 0.0011184544992374173 | Degree: 25\n",
      "Name: Zhang Xin | Betweenness Centrality: 0.0011184544992374173 | Degree: 2\n",
      "Name: Gaurav Singh | Betweenness Centrality: 0.0010167768174885613 | Degree: 8\n",
      "Name: Hayley Mcgillivray | Betweenness Centrality: 0.0008769700050838841 | Degree: 15\n",
      "Name: Jelena Markov | Betweenness Centrality: 0.0008769700050838841 | Degree: 15\n",
      "Name: Phil Newman | Betweenness Centrality: 0.000762582613116421 | Degree: 7\n",
      "Name: Brendan Florio | Betweenness Centrality: 0.0006609049313675648 | Degree: 13\n",
      "Name: Jens Klump | Betweenness Centrality: 0.0006609049313675648 | Degree: 13\n",
      "Name: Michael McWilliams | Betweenness Centrality: 0.0006609049313675648 | Degree: 8\n"
     ]
    }
   ],
   "source": [
    "#First get the top 20 nodes by betweenness as a list\n",
    "top_betweenness = sorted_betweenness[:20]\n",
    "\n",
    "#Then find and print their degree\n",
    "for tb in top_betweenness: # Loop through top_betweenness\n",
    "    degree = degree_dict[tb[0]] # Use degree_dict to access a node's degree, see footnote 2\n",
    "    print(\"Name:\", tb[0], \"| Betweenness Centrality:\", tb[1], \"| Degree:\", degree)"
   ]
  },
  {
   "cell_type": "code",
   "execution_count": 13,
   "metadata": {},
   "outputs": [],
   "source": [
    "from networkx.algorithms import community #This part of networkx, for community detection, needs to be imported separately.\n",
    "communities = community.greedy_modularity_communities(G)"
   ]
  },
  {
   "cell_type": "code",
   "execution_count": 14,
   "metadata": {},
   "outputs": [],
   "source": [
    "modularity_dict = {} # Create a blank dictionary\n",
    "for i,c in enumerate(communities): # Loop through the list of communities, keeping track of the number for the community\n",
    "    for name in c: # Loop through each person in a community\n",
    "        modularity_dict[name] = i # Create an entry in the dictionary for the person, where the value is which group they belong to.\n",
    "\n",
    "# Now you can add modularity information like we did the other metrics\n",
    "nx.set_node_attributes(G, modularity_dict, 'modularity')"
   ]
  },
  {
   "cell_type": "code",
   "execution_count": 15,
   "metadata": {},
   "outputs": [
    {
     "name": "stdout",
     "output_type": "stream",
     "text": [
      "Modularity Class 0 Sorted by Eigenvector Centrality:\n",
      "Name: Dilusha Silva | Eigenvector Centrality: 0.2006224862442516\n",
      "Name: Sue Robson | Eigenvector Centrality: 0.200225924746069\n",
      "Name: Simon Biggs | Eigenvector Centrality: 0.200225924746069\n",
      "Name: Edgar Basto Piamonte | Eigenvector Centrality: 0.200225924746069\n",
      "Name: Benjamin Stone | Eigenvector Centrality: 0.19986431094964086\n"
     ]
    }
   ],
   "source": [
    "# First get a list of just the nodes in that class\n",
    "class0 = [n for n in G.nodes() if G.nodes[n]['modularity'] == 0]\n",
    "\n",
    "# Then create a dictionary of the eigenvector centralities of those nodes\n",
    "class0_eigenvector = {n:G.nodes[n]['eigenvector'] for n in class0}\n",
    "\n",
    "# Then sort that dictionary and print the first 5 results\n",
    "class0_sorted_by_eigenvector = sorted(class0_eigenvector.items(), key=itemgetter(1), reverse=True)\n",
    "\n",
    "print(\"Modularity Class 0 Sorted by Eigenvector Centrality:\")\n",
    "for node in class0_sorted_by_eigenvector[:5]:\n",
    "    print(\"Name:\", node[0], \"| Eigenvector Centrality:\", node[1])"
   ]
  },
  {
   "cell_type": "code",
   "execution_count": 16,
   "metadata": {},
   "outputs": [
    {
     "name": "stdout",
     "output_type": "stream",
     "text": [
      "Class 0: ['Jill Stajduhar GAICD', 'Kevin Xiao', 'Lucas Lacasa', 'Rob Shannon', 'Cheryl Praeger', 'Benjamin Stone', 'Peter Dean', 'Michael Bertolacci', 'David Walker', 'Tim Craske', 'Sivarit Sultornsanee, Ph.D.', 'Claire Walker', 'Eun-Jung Holden', '思源 吉', 'Mitchell Chiew', 'JP Barnard', 'Kathrin Stroud', 'Edgar Basto Piamonte', 'Simon Biggs', 'YANG BAI', 'Zhang Xin', 'Anas Ghadouani', 'Muhammad Hamza', 'Mark Reynolds', 'Mythreye Krishnan', 'Annabel Williamson GAICD', 'Sue Robson', 'Anne Geiger De Feo', 'Xi Shen', 'Sean Hood', 'Joanna Elfving-Hwang', '炎 Tomas 黃', 'Dilusha Silva', 'Xiumin Li', 'Mark Holton', '静 石', 'Melinda Hodkiewicz', 'Cristina Vulpe', 'Joshua B. van Kampen MBA']\n",
      "Class 1: ['nariman mahdavi', 'Grant Douglas', 'Caroline Johnson', 'Jens Klump', 'Mukhdeep Singh Manshahia (Dr.)', 'Brendan Florio', 'Ingo Fischer', 'Angus McFarlane', 'Alf Mazzitelli', 'Margaux Le Vaillant', 'Jelena Markov', 'Neil Francis', 'Xinghuo Yu', 'Martin Paesold', 'Dr Robert Hough (GAICD)', 'Grant Kopec', 'Nick Saunders', 'Hayley Mcgillivray', 'Ulrich Engelke', 'Hugo Le Breton']\n",
      "Class 2: ['Cherie van Wensveen', 'Gaurav Singh', 'Coert Du Plessis (杜康)', 'Michael Lomman', 'Russell McChesney', 'Inna Shibanova', 'Arun Narayanan', 'Phil Newman', 'Ken Green', 'Kim Harmer', 'Jingbo Wang', 'Margaret Jones PhD GAICD', 'Andrew Marxsen', 'Peter Kasprzak']\n",
      "Class 3: ['Donna Bradley MAHRI', 'Ralph Andrzejak', 'Ba-Ngu Vo', 'Mark Griffin', 'Bui Hoa', 'Ryan Loxton', 'Victor Calo', 'Gabriel J. González Cáceres', 'Andrew Bell', 'Vladimir Puzyrev', 'Paul Nicholls', 'Chris Moran']\n",
      "Class 4: ['Bonnie Law', 'Danny Chiu', 'FirstName1 LastName1', 'Zhang Jie', 'Paula Langley', 'Peter Langridge', 'Y.M. Lai', 'Mark Stickells', 'Shilu HAN']\n",
      "Class 5: ['Michael McWilliams', 'Deidre Willmott', 'Jonathan Law', 'Linda Kristjanson', 'Edgar Avalos', 'Craig Roy   FAICD', 'James Johnson', 'Francky Fouedjio']\n",
      "Class 6: ['Jie Zhang', 'Wei Lin', 'Yaneer Bar-Yam', 'Dimitris Kugiumtzis', 'Takashi Shimada', 'Tianping Chen', 'Panos Argyrakis', 'Amit Mishra']\n",
      "Class 7: ['Dr. Kishor Kumar Keekan', 'Aamir Nawaz', 'Pheona Fong', 'Philippe Faure', 'Robyn Owens', 'John Dell', 'Eric LUO']\n",
      "Class 8: ['Michael Clark', 'Mitchell Neumann', 'Richard Scott', 'Steve Bodon', 'Holly Bridgwater', 'Andrew McCulloch']\n",
      "Class 9: ['Cristian Carmeli', 'Jane Pillow', 'Kevin Judd', 'Hang ZHOU', 'Ryan Faulds', 'Victor Sreeram']\n",
      "Class 10: ['Alesio Lanzara', 'Ximena Aguirre ', 'Tyler Bikaun', 'Matthew Grant']\n",
      "Class 11: ['Alamin khan', 'Drisya Alex Thumba', 'Md Shakil Islam']\n",
      "Class 12: ['Kylie Hollins', 'Moussa Reda Mansour, PhD', 'Ruth Boardman']\n",
      "Class 13: ['Chi K. Michael Tse', 'Asghar Moeini', 'Uwe Aickelin']\n",
      "Class 14: ['Pooya Darvehei', 'Richard Diering', 'Sohel Ferdous']\n",
      "Class 15: ['Hello Community', 'Farzad Shafiei Dizaji', '张 海涛']\n",
      "Class 16: ['Sebastian Oberst', 'wei bian', 'Tamryn Barker']\n",
      "Class 17: ['Vincent Piras', 'Lin Wang', 'Kai-kai Shen']\n",
      "Class 18: ['Professor Max Lu AO DL FREng FAA FTSE', 'Roland De Marco', 'Tim Shanahan']\n",
      "Class 19: ['Julie Sleep', 'Alison Harris', 'Stan Miklavcic']\n",
      "Class 20: ['Xiao Fan LIU', 'Kewei Wang', 'KS Tang']\n",
      "Class 21: ['Doris Lin', 'Alex Wai', 'Steve Lawrence']\n",
      "Class 22: ['Katharine McKenzie', 'Tom Ridsdill-Smith', 'Kyle Saltmarsh']\n",
      "Class 23: ['marjan abdechiri (Firouznia)', 'Anders Eriksson', 'Robert Faff ']\n",
      "Class 24: ['Nuwan Ganganath', 'Danny Wong', 'Yining Sun']\n",
      "Class 25: ['Gianluca Setti', 'Qingying Miao', 'Maoji Wang']\n",
      "Class 26: ['Luc Bergé', '秉宏 汪', 'Marc Lefranc']\n",
      "Class 27: ['Reik Donner', 'Juergen Kurths', 'Jian-Bo Wang']\n",
      "Class 28: ['Wlodzimierz Klonowski, PhD, DSc', 'Wlodzimierz Klonowski', 'Patrick Celka']\n",
      "Class 29: ['Zhyky Zhao', 'Jun Wang', 'Diego L. Guarín']\n"
     ]
    }
   ],
   "source": [
    "for i,c in enumerate(communities): # Loop through the list of communities\n",
    "    if len(c) > 2: # Filter out modularity classes with 2 or fewer nodes\n",
    "        print('Class '+str(i)+':', list(c)) # Print out the classes and their members"
   ]
  },
  {
   "cell_type": "code",
   "execution_count": null,
   "metadata": {},
   "outputs": [],
   "source": []
  }
 ],
 "metadata": {
  "kernelspec": {
   "display_name": "Python 3",
   "language": "python",
   "name": "python3"
  },
  "language_info": {
   "codemirror_mode": {
    "name": "ipython",
    "version": 3
   },
   "file_extension": ".py",
   "mimetype": "text/x-python",
   "name": "python",
   "nbconvert_exporter": "python",
   "pygments_lexer": "ipython3",
   "version": "3.6.10"
  },
  "toc": {
   "base_numbering": 1,
   "nav_menu": {},
   "number_sections": true,
   "sideBar": true,
   "skip_h1_title": false,
   "title_cell": "Table of Contents",
   "title_sidebar": "Contents",
   "toc_cell": false,
   "toc_position": {},
   "toc_section_display": true,
   "toc_window_display": false
  }
 },
 "nbformat": 4,
 "nbformat_minor": 2
}
