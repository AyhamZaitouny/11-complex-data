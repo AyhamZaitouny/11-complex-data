{
 "cells": [
  {
   "cell_type": "code",
   "execution_count": 4,
   "metadata": {},
   "outputs": [
    {
     "ename": "RuntimeError",
     "evalue": "Unable to open ATCOGas_Existing_Main.shp",
     "output_type": "error",
     "traceback": [
      "\u001b[0;31m---------------------------------------------------------------------------\u001b[0m",
      "\u001b[0;31mRuntimeError\u001b[0m                              Traceback (most recent call last)",
      "\u001b[0;32m<ipython-input-4-289f239f92e5>\u001b[0m in \u001b[0;36m<module>\u001b[0;34m()\u001b[0m\n\u001b[1;32m      7\u001b[0m \u001b[0;31m#note that read_shp will require GDAL - Geospatial Data Abstraction Library\u001b[0m\u001b[0;34m\u001b[0m\u001b[0;34m\u001b[0m\u001b[0m\n\u001b[1;32m      8\u001b[0m \u001b[0;31m#install under anaconda with \"conda install -c conda-forge gdal\"\u001b[0m\u001b[0;34m\u001b[0m\u001b[0;34m\u001b[0m\u001b[0m\n\u001b[0;32m----> 9\u001b[0;31m \u001b[0mG1\u001b[0m\u001b[0;34m=\u001b[0m\u001b[0mnx\u001b[0m\u001b[0;34m.\u001b[0m\u001b[0mread_shp\u001b[0m\u001b[0;34m(\u001b[0m\u001b[0;34m\"ATCOGas_Existing_Main.shp\"\u001b[0m\u001b[0;34m)\u001b[0m\u001b[0;34m\u001b[0m\u001b[0m\n\u001b[0m\u001b[1;32m     10\u001b[0m \u001b[0mG2\u001b[0m\u001b[0;34m=\u001b[0m\u001b[0mnx\u001b[0m\u001b[0;34m.\u001b[0m\u001b[0mread_shp\u001b[0m\u001b[0;34m(\u001b[0m\u001b[0;34m\"ATCOGas_Proposed_Main.shp\"\u001b[0m\u001b[0;34m)\u001b[0m\u001b[0;34m\u001b[0m\u001b[0m\n\u001b[1;32m     11\u001b[0m \u001b[0;34m\u001b[0m\u001b[0m\n",
      "\u001b[0;32m~/anaconda3/lib/python3.6/site-packages/networkx/readwrite/nx_shp.py\u001b[0m in \u001b[0;36mread_shp\u001b[0;34m(path, simplify, geom_attrs, strict)\u001b[0m\n\u001b[1;32m     94\u001b[0m     \u001b[0mshp\u001b[0m \u001b[0;34m=\u001b[0m \u001b[0mogr\u001b[0m\u001b[0;34m.\u001b[0m\u001b[0mOpen\u001b[0m\u001b[0;34m(\u001b[0m\u001b[0mpath\u001b[0m\u001b[0;34m)\u001b[0m\u001b[0;34m\u001b[0m\u001b[0m\n\u001b[1;32m     95\u001b[0m     \u001b[0;32mif\u001b[0m \u001b[0mshp\u001b[0m \u001b[0;32mis\u001b[0m \u001b[0;32mNone\u001b[0m\u001b[0;34m:\u001b[0m\u001b[0;34m\u001b[0m\u001b[0m\n\u001b[0;32m---> 96\u001b[0;31m         \u001b[0;32mraise\u001b[0m \u001b[0mRuntimeError\u001b[0m\u001b[0;34m(\u001b[0m\u001b[0;34m\"Unable to open {}\"\u001b[0m\u001b[0;34m.\u001b[0m\u001b[0mformat\u001b[0m\u001b[0;34m(\u001b[0m\u001b[0mpath\u001b[0m\u001b[0;34m)\u001b[0m\u001b[0;34m)\u001b[0m\u001b[0;34m\u001b[0m\u001b[0m\n\u001b[0m\u001b[1;32m     97\u001b[0m     \u001b[0;32mfor\u001b[0m \u001b[0mlyr\u001b[0m \u001b[0;32min\u001b[0m \u001b[0mshp\u001b[0m\u001b[0;34m:\u001b[0m\u001b[0;34m\u001b[0m\u001b[0m\n\u001b[1;32m     98\u001b[0m         \u001b[0mfields\u001b[0m \u001b[0;34m=\u001b[0m \u001b[0;34m[\u001b[0m\u001b[0mx\u001b[0m\u001b[0;34m.\u001b[0m\u001b[0mGetName\u001b[0m\u001b[0;34m(\u001b[0m\u001b[0;34m)\u001b[0m \u001b[0;32mfor\u001b[0m \u001b[0mx\u001b[0m \u001b[0;32min\u001b[0m \u001b[0mlyr\u001b[0m\u001b[0;34m.\u001b[0m\u001b[0mschema\u001b[0m\u001b[0;34m]\u001b[0m\u001b[0;34m\u001b[0m\u001b[0m\n",
      "\u001b[0;31mRuntimeError\u001b[0m: Unable to open ATCOGas_Existing_Main.shp"
     ]
    }
   ],
   "source": [
    "import os\n",
    "import networkx as nx \n",
    "import matplotlib.pyplot as plt\n",
    "%matplotlib notebook\n",
    "\n",
    "#get the first data sets\n",
    "#note that read_shp will require GDAL - Geospatial Data Abstraction Library\n",
    "#install under anaconda with \"conda install -c conda-forge gdal\"\n",
    "G1=nx.read_shp(\"ATCOGas_Existing_Main.shp\")\n",
    "G2=nx.read_shp(\"ATCOGas_Proposed_Main.shp\")\n",
    "\n",
    "#most of this script is just looking through various data sets, deciding they are too big to handle and moving on..."
   ]
  },
  {
   "cell_type": "code",
   "execution_count": null,
   "metadata": {},
   "outputs": [],
   "source": [
    "#compute and plot the degree distribution\n",
    "degree_dst1 = sorted([d for n, d in G1.degree()], reverse=True)\n",
    "degree_dst2 = sorted([d for n, d in G2.degree()], reverse=True)\n",
    "# print \"Degree sequence\", degree_sequence\n",
    "\n",
    "plt.loglog(degree_dst1, 'b-', marker='o')\n",
    "plt.loglog(degree_dst2, 'r-', marker='s')\n",
    "plt.title(\"Degree rank plot\")\n",
    "plt.ylabel(\"degree\")\n",
    "plt.xlabel(\"rank\")"
   ]
  },
  {
   "cell_type": "code",
   "execution_count": null,
   "metadata": {},
   "outputs": [],
   "source": [
    "#move on to a smaller data set\n",
    "os.chdir(\"../Western Power Data/\")\n",
    "G=nx.read_shp(\"DistributionPowerlineOH.shp\")\n",
    "degree_sequence = sorted([d for n, d in G.degree()], reverse=True)\n",
    "# print \"Degree sequence\", degree_sequence\n",
    "dmax = max(degree_sequence)\n",
    "\n",
    "plt.loglog(degree_sequence, 'b-', marker='o')\n",
    "plt.title(\"Degree rank plot\")\n",
    "plt.ylabel(\"degree\")\n",
    "plt.xlabel(\"rank\")"
   ]
  },
  {
   "cell_type": "code",
   "execution_count": null,
   "metadata": {},
   "outputs": [],
   "source": [
    "os.chdir('/home/michael/Desktop/CORE-Skills/data/Other/') #find the data\n",
    "\n",
    "G=nx.read_shp(\"TransmissionOverheadPowerlinesWP_032.shp\")\n",
    "degree_sequence = sorted([d for n, d in G.degree()], reverse=True)\n",
    "# print \"Degree sequence\", degree_sequence\n",
    "dmax = max(degree_sequence)\n",
    "\n",
    "plt.loglog(degree_sequence, 'b-', marker='o')\n",
    "plt.title(\"Degree rank plot\")\n",
    "plt.ylabel(\"degree\")\n",
    "plt.xlabel(\"rank\")"
   ]
  },
  {
   "cell_type": "code",
   "execution_count": null,
   "metadata": {},
   "outputs": [],
   "source": [
    "nx.draw(G,nx.shell_layout(G))"
   ]
  },
  {
   "cell_type": "code",
   "execution_count": null,
   "metadata": {},
   "outputs": [],
   "source": [
    "H=G.to_undirected()\n",
    "for i in range(1, 26):\n",
    "    plt.subplot(5, 5, i)\n",
    "    \n",
    "    Gcc = sorted(nx.connected_component_subgraphs(H), key=len, reverse=True)[i]\n",
    "    pos = nx.spring_layout(Gcc)\n",
    "    plt.axis('off')\n",
    "    nx.draw_networkx_nodes(Gcc, pos, node_size=20)\n",
    "    nx.draw_networkx_edges(Gcc, pos, alpha=0.4)\n",
    "\n",
    "plt.show()"
   ]
  },
  {
   "cell_type": "code",
   "execution_count": null,
   "metadata": {},
   "outputs": [],
   "source": []
  },
  {
   "cell_type": "code",
   "execution_count": null,
   "metadata": {},
   "outputs": [],
   "source": [
    "T=nx.minimum_spanning_tree(G.to_undirected())\n",
    "plt.figure(2)\n",
    "nx.draw(T)"
   ]
  },
  {
   "cell_type": "code",
   "execution_count": null,
   "metadata": {},
   "outputs": [],
   "source": []
  }
 ],
 "metadata": {
  "kernelspec": {
   "display_name": "Python 3",
   "language": "python",
   "name": "python3"
  },
  "language_info": {
   "codemirror_mode": {
    "name": "ipython",
    "version": 3
   },
   "file_extension": ".py",
   "mimetype": "text/x-python",
   "name": "python",
   "nbconvert_exporter": "python",
   "pygments_lexer": "ipython3",
   "version": "3.6.5"
  }
 },
 "nbformat": 4,
 "nbformat_minor": 2
}
