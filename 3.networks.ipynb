{
 "cells": [
  {
   "cell_type": "code",
   "execution_count": 1,
   "metadata": {},
   "outputs": [
    {
     "ename": "FileNotFoundError",
     "evalue": "[Errno 2] No such file or directory: '/Users/michael/work/consulting/CORE-Skills2020/content2020'",
     "output_type": "error",
     "traceback": [
      "\u001b[0;31m---------------------------------------------------------------------------\u001b[0m",
      "\u001b[0;31mFileNotFoundError\u001b[0m                         Traceback (most recent call last)",
      "\u001b[0;32m<ipython-input-1-1e7971b18d6f>\u001b[0m in \u001b[0;36m<module>\u001b[0;34m\u001b[0m\n\u001b[1;32m      1\u001b[0m \u001b[0;32mimport\u001b[0m \u001b[0mos\u001b[0m\u001b[0;34m\u001b[0m\u001b[0;34m\u001b[0m\u001b[0m\n\u001b[0;32m----> 2\u001b[0;31m \u001b[0mos\u001b[0m\u001b[0;34m.\u001b[0m\u001b[0mchdir\u001b[0m\u001b[0;34m(\u001b[0m\u001b[0;34m\"/Users/michael/work/consulting/CORE-Skills2020/content2020\"\u001b[0m\u001b[0;34m)\u001b[0m\u001b[0;34m\u001b[0m\u001b[0;34m\u001b[0m\u001b[0m\n\u001b[0m",
      "\u001b[0;31mFileNotFoundError\u001b[0m: [Errno 2] No such file or directory: '/Users/michael/work/consulting/CORE-Skills2020/content2020'"
     ]
    }
   ],
   "source": [
    "import os\n",
    "os.chdir(\"/Users/michael/work/consulting/CORE-Skills2020/content2020\")"
   ]
  },
  {
   "cell_type": "raw",
   "metadata": {},
   "source": [
    "In what follows we will demonstrate some of the basic network capabilitys of the networkx package, but first we need some network data to play with. I sugest obtaining you linkedin contact network - it is straightforward to download your linkedin contacts, but the connections between them are unknown. For the purposes of illustation we will employ a few simple heuristics to obtain a more natural looking network. Instructions for obtaining the network from linkedin are on the blog post https://towardsdatascience.com/visualizing-my-linkedin-network-c4b232ab2ad0 and breifly summarised in the course notes."
   ]
  },
  {
   "cell_type": "code",
   "execution_count": 2,
   "metadata": {},
   "outputs": [
    {
     "data": {
      "text/html": [
       "<div>\n",
       "<style scoped>\n",
       "    .dataframe tbody tr th:only-of-type {\n",
       "        vertical-align: middle;\n",
       "    }\n",
       "\n",
       "    .dataframe tbody tr th {\n",
       "        vertical-align: top;\n",
       "    }\n",
       "\n",
       "    .dataframe thead th {\n",
       "        text-align: right;\n",
       "    }\n",
       "</style>\n",
       "<table border=\"1\" class=\"dataframe\">\n",
       "  <thead>\n",
       "    <tr style=\"text-align: right;\">\n",
       "      <th></th>\n",
       "      <th>First Name</th>\n",
       "      <th>Last Name</th>\n",
       "      <th>Email Address</th>\n",
       "      <th>Company</th>\n",
       "      <th>Position</th>\n",
       "      <th>Connected On</th>\n",
       "    </tr>\n",
       "  </thead>\n",
       "  <tbody>\n",
       "    <tr>\n",
       "      <td>0</td>\n",
       "      <td>Rasit</td>\n",
       "      <td>Abay</td>\n",
       "      <td>NaN</td>\n",
       "      <td>UNSW Canberra</td>\n",
       "      <td>PhD Candidate (Astrodynamics &amp; Machine Learning)</td>\n",
       "      <td>07 Mar 2020</td>\n",
       "    </tr>\n",
       "    <tr>\n",
       "      <td>1</td>\n",
       "      <td>Ximena</td>\n",
       "      <td>Aguirre</td>\n",
       "      <td>NaN</td>\n",
       "      <td>Milenio Diario</td>\n",
       "      <td>Gerente Corporativo Sr Sustentabilidad</td>\n",
       "      <td>28 Feb 2020</td>\n",
       "    </tr>\n",
       "    <tr>\n",
       "      <td>2</td>\n",
       "      <td>Tyler</td>\n",
       "      <td>Bikaun</td>\n",
       "      <td>NaN</td>\n",
       "      <td>Wood</td>\n",
       "      <td>Graduate Mechanical Engineer</td>\n",
       "      <td>28 Feb 2020</td>\n",
       "    </tr>\n",
       "    <tr>\n",
       "      <td>3</td>\n",
       "      <td>Malka N.</td>\n",
       "      <td>Halgamuge</td>\n",
       "      <td>malka.nisha@unimelb.edu.au</td>\n",
       "      <td>Department of Electrical and Electronic Engine...</td>\n",
       "      <td>Research Scientist</td>\n",
       "      <td>24 Feb 2020</td>\n",
       "    </tr>\n",
       "    <tr>\n",
       "      <td>4</td>\n",
       "      <td>Sanal</td>\n",
       "      <td>Panicker</td>\n",
       "      <td>NaN</td>\n",
       "      <td>Community News</td>\n",
       "      <td>Database Manager</td>\n",
       "      <td>23 Feb 2020</td>\n",
       "    </tr>\n",
       "  </tbody>\n",
       "</table>\n",
       "</div>"
      ],
      "text/plain": [
       "  First Name  Last Name               Email Address  \\\n",
       "0      Rasit       Abay                         NaN   \n",
       "1     Ximena   Aguirre                          NaN   \n",
       "2      Tyler     Bikaun                         NaN   \n",
       "3   Malka N.  Halgamuge  malka.nisha@unimelb.edu.au   \n",
       "4      Sanal   Panicker                         NaN   \n",
       "\n",
       "                                             Company  \\\n",
       "0                                      UNSW Canberra   \n",
       "1                                     Milenio Diario   \n",
       "2                                               Wood   \n",
       "3  Department of Electrical and Electronic Engine...   \n",
       "4                                     Community News   \n",
       "\n",
       "                                           Position Connected On  \n",
       "0  PhD Candidate (Astrodynamics & Machine Learning)  07 Mar 2020  \n",
       "1            Gerente Corporativo Sr Sustentabilidad  28 Feb 2020  \n",
       "2                      Graduate Mechanical Engineer  28 Feb 2020  \n",
       "3                                Research Scientist  24 Feb 2020  \n",
       "4                                  Database Manager  23 Feb 2020  "
      ]
     },
     "execution_count": 2,
     "metadata": {},
     "output_type": "execute_result"
    }
   ],
   "source": [
    "#credit for what follows: https://towardsdatascience.com/visualizing-my-linkedin-network-c4b232ab2ad0\n",
    "import pandas as pd\n",
    "df = pd.read_csv('Connections.csv')\n",
    "df.head()"
   ]
  },
  {
   "cell_type": "code",
   "execution_count": 8,
   "metadata": {},
   "outputs": [
    {
     "ename": "ValueError",
     "evalue": "Value of 'path_0' is not the name of a column in 'data_frame'. Expected one of ['First Name', 'Last Name', 'Email Address', 'Company', 'Position', 'Connected On'] but received: My Network",
     "output_type": "error",
     "traceback": [
      "\u001b[0;31m---------------------------------------------------------------------------\u001b[0m",
      "\u001b[0;31mValueError\u001b[0m                                Traceback (most recent call last)",
      "\u001b[0;32m<ipython-input-8-511047e1b384>\u001b[0m in \u001b[0;36m<module>\u001b[0;34m\u001b[0m\n\u001b[1;32m      1\u001b[0m \u001b[0;31m#need plotly: conda install -c plotly plotly\u001b[0m\u001b[0;34m\u001b[0m\u001b[0;34m\u001b[0m\u001b[0;34m\u001b[0m\u001b[0m\n\u001b[1;32m      2\u001b[0m \u001b[0;32mimport\u001b[0m \u001b[0mplotly\u001b[0m\u001b[0;34m.\u001b[0m\u001b[0mexpress\u001b[0m \u001b[0;32mas\u001b[0m \u001b[0mpx\u001b[0m\u001b[0;34m\u001b[0m\u001b[0;34m\u001b[0m\u001b[0m\n\u001b[0;32m----> 3\u001b[0;31m \u001b[0mpx\u001b[0m\u001b[0;34m.\u001b[0m\u001b[0mtreemap\u001b[0m\u001b[0;34m(\u001b[0m\u001b[0mdf\u001b[0m\u001b[0;34m,\u001b[0m \u001b[0mpath\u001b[0m\u001b[0;34m=\u001b[0m\u001b[0;34m[\u001b[0m\u001b[0;34m'My Network'\u001b[0m\u001b[0;34m,\u001b[0m \u001b[0;34m'Company'\u001b[0m\u001b[0;34m,\u001b[0m \u001b[0;34m'Postion'\u001b[0m\u001b[0;34m]\u001b[0m\u001b[0;34m,\u001b[0m \u001b[0mwidth\u001b[0m\u001b[0;34m=\u001b[0m\u001b[0;36m1200\u001b[0m\u001b[0;34m,\u001b[0m \u001b[0mheight\u001b[0m\u001b[0;34m=\u001b[0m\u001b[0;36m1200\u001b[0m\u001b[0;34m)\u001b[0m\u001b[0;34m\u001b[0m\u001b[0;34m\u001b[0m\u001b[0m\n\u001b[0m\u001b[1;32m      4\u001b[0m \u001b[0;31m#according to the aforementioned blogpost, this call to plotly.tree\u001b[0m\u001b[0;34m\u001b[0m\u001b[0;34m\u001b[0m\u001b[0;34m\u001b[0m\u001b[0m\n",
      "\u001b[0;32m~/anaconda3/lib/python3.7/site-packages/plotly/express/_chart_types.py\u001b[0m in \u001b[0;36mtreemap\u001b[0;34m(data_frame, names, values, parents, ids, path, color, color_continuous_scale, range_color, color_continuous_midpoint, color_discrete_sequence, color_discrete_map, hover_name, hover_data, custom_data, labels, title, template, width, height, branchvalues, maxdepth)\u001b[0m\n\u001b[1;32m   1359\u001b[0m         \u001b[0mconstructor\u001b[0m\u001b[0;34m=\u001b[0m\u001b[0mgo\u001b[0m\u001b[0;34m.\u001b[0m\u001b[0mTreemap\u001b[0m\u001b[0;34m,\u001b[0m\u001b[0;34m\u001b[0m\u001b[0;34m\u001b[0m\u001b[0m\n\u001b[1;32m   1360\u001b[0m         \u001b[0mtrace_patch\u001b[0m\u001b[0;34m=\u001b[0m\u001b[0mdict\u001b[0m\u001b[0;34m(\u001b[0m\u001b[0mbranchvalues\u001b[0m\u001b[0;34m=\u001b[0m\u001b[0mbranchvalues\u001b[0m\u001b[0;34m,\u001b[0m \u001b[0mmaxdepth\u001b[0m\u001b[0;34m=\u001b[0m\u001b[0mmaxdepth\u001b[0m\u001b[0;34m)\u001b[0m\u001b[0;34m,\u001b[0m\u001b[0;34m\u001b[0m\u001b[0;34m\u001b[0m\u001b[0m\n\u001b[0;32m-> 1361\u001b[0;31m         \u001b[0mlayout_patch\u001b[0m\u001b[0;34m=\u001b[0m\u001b[0mlayout_patch\u001b[0m\u001b[0;34m,\u001b[0m\u001b[0;34m\u001b[0m\u001b[0;34m\u001b[0m\u001b[0m\n\u001b[0m\u001b[1;32m   1362\u001b[0m     )\n\u001b[1;32m   1363\u001b[0m \u001b[0;34m\u001b[0m\u001b[0m\n",
      "\u001b[0;32m~/anaconda3/lib/python3.7/site-packages/plotly/express/_core.py\u001b[0m in \u001b[0;36mmake_figure\u001b[0;34m(args, constructor, trace_patch, layout_patch)\u001b[0m\n\u001b[1;32m   1358\u001b[0m \u001b[0;34m\u001b[0m\u001b[0m\n\u001b[1;32m   1359\u001b[0m     args, trace_specs, grouped_mappings, sizeref, show_colorbar = infer_config(\n\u001b[0;32m-> 1360\u001b[0;31m         \u001b[0margs\u001b[0m\u001b[0;34m,\u001b[0m \u001b[0mconstructor\u001b[0m\u001b[0;34m,\u001b[0m \u001b[0mtrace_patch\u001b[0m\u001b[0;34m\u001b[0m\u001b[0;34m\u001b[0m\u001b[0m\n\u001b[0m\u001b[1;32m   1361\u001b[0m     )\n\u001b[1;32m   1362\u001b[0m     \u001b[0mgrouper\u001b[0m \u001b[0;34m=\u001b[0m \u001b[0;34m[\u001b[0m\u001b[0mx\u001b[0m\u001b[0;34m.\u001b[0m\u001b[0mgrouper\u001b[0m \u001b[0;32mor\u001b[0m \u001b[0mone_group\u001b[0m \u001b[0;32mfor\u001b[0m \u001b[0mx\u001b[0m \u001b[0;32min\u001b[0m \u001b[0mgrouped_mappings\u001b[0m\u001b[0;34m]\u001b[0m \u001b[0;32mor\u001b[0m \u001b[0;34m[\u001b[0m\u001b[0mone_group\u001b[0m\u001b[0;34m]\u001b[0m\u001b[0;34m\u001b[0m\u001b[0;34m\u001b[0m\u001b[0m\n",
      "\u001b[0;32m~/anaconda3/lib/python3.7/site-packages/plotly/express/_core.py\u001b[0m in \u001b[0;36minfer_config\u001b[0;34m(args, constructor, trace_patch)\u001b[0m\n\u001b[1;32m   1203\u001b[0m             \u001b[0mall_attrables\u001b[0m \u001b[0;34m+=\u001b[0m \u001b[0;34m[\u001b[0m\u001b[0mgroup_attr\u001b[0m\u001b[0;34m]\u001b[0m\u001b[0;34m\u001b[0m\u001b[0;34m\u001b[0m\u001b[0m\n\u001b[1;32m   1204\u001b[0m \u001b[0;34m\u001b[0m\u001b[0m\n\u001b[0;32m-> 1205\u001b[0;31m     \u001b[0margs\u001b[0m \u001b[0;34m=\u001b[0m \u001b[0mbuild_dataframe\u001b[0m\u001b[0;34m(\u001b[0m\u001b[0margs\u001b[0m\u001b[0;34m,\u001b[0m \u001b[0mall_attrables\u001b[0m\u001b[0;34m,\u001b[0m \u001b[0marray_attrables\u001b[0m\u001b[0;34m)\u001b[0m\u001b[0;34m\u001b[0m\u001b[0;34m\u001b[0m\u001b[0m\n\u001b[0m\u001b[1;32m   1206\u001b[0m     \u001b[0;32mif\u001b[0m \u001b[0mconstructor\u001b[0m \u001b[0;32min\u001b[0m \u001b[0;34m[\u001b[0m\u001b[0mgo\u001b[0m\u001b[0;34m.\u001b[0m\u001b[0mTreemap\u001b[0m\u001b[0;34m,\u001b[0m \u001b[0mgo\u001b[0m\u001b[0;34m.\u001b[0m\u001b[0mSunburst\u001b[0m\u001b[0;34m]\u001b[0m \u001b[0;32mand\u001b[0m \u001b[0margs\u001b[0m\u001b[0;34m[\u001b[0m\u001b[0;34m\"path\"\u001b[0m\u001b[0;34m]\u001b[0m \u001b[0;32mis\u001b[0m \u001b[0;32mnot\u001b[0m \u001b[0;32mNone\u001b[0m\u001b[0;34m:\u001b[0m\u001b[0;34m\u001b[0m\u001b[0;34m\u001b[0m\u001b[0m\n\u001b[1;32m   1207\u001b[0m         \u001b[0margs\u001b[0m \u001b[0;34m=\u001b[0m \u001b[0mprocess_dataframe_hierarchy\u001b[0m\u001b[0;34m(\u001b[0m\u001b[0margs\u001b[0m\u001b[0;34m)\u001b[0m\u001b[0;34m\u001b[0m\u001b[0;34m\u001b[0m\u001b[0m\n",
      "\u001b[0;32m~/anaconda3/lib/python3.7/site-packages/plotly/express/_core.py\u001b[0m in \u001b[0;36mbuild_dataframe\u001b[0;34m(args, attrables, array_attrables)\u001b[0m\n\u001b[1;32m    972\u001b[0m                             \u001b[0;34m\"\\n To use the index, pass it in directly as `df.index`.\"\u001b[0m\u001b[0;34m\u001b[0m\u001b[0;34m\u001b[0m\u001b[0m\n\u001b[1;32m    973\u001b[0m                         )\n\u001b[0;32m--> 974\u001b[0;31m                     \u001b[0;32mraise\u001b[0m \u001b[0mValueError\u001b[0m\u001b[0;34m(\u001b[0m\u001b[0merr_msg\u001b[0m\u001b[0;34m)\u001b[0m\u001b[0;34m\u001b[0m\u001b[0;34m\u001b[0m\u001b[0m\n\u001b[0m\u001b[1;32m    975\u001b[0m                 \u001b[0;32mif\u001b[0m \u001b[0mlength\u001b[0m \u001b[0;32mand\u001b[0m \u001b[0mlen\u001b[0m\u001b[0;34m(\u001b[0m\u001b[0mdf_input\u001b[0m\u001b[0;34m[\u001b[0m\u001b[0margument\u001b[0m\u001b[0;34m]\u001b[0m\u001b[0;34m)\u001b[0m \u001b[0;34m!=\u001b[0m \u001b[0mlength\u001b[0m\u001b[0;34m:\u001b[0m\u001b[0;34m\u001b[0m\u001b[0;34m\u001b[0m\u001b[0m\n\u001b[1;32m    976\u001b[0m                     raise ValueError(\n",
      "\u001b[0;31mValueError\u001b[0m: Value of 'path_0' is not the name of a column in 'data_frame'. Expected one of ['First Name', 'Last Name', 'Email Address', 'Company', 'Position', 'Connected On'] but received: My Network"
     ]
    }
   ],
   "source": [
    "#need plotly: conda install -c plotly plotly\n",
    "import plotly.express as px\n",
    "px.treemap(df, path=['My Network', 'Company', 'Postion'], width=1200, height=1200)\n",
    "#according to the aforementioned blogpost, this call to plotly.tree"
   ]
  },
  {
   "cell_type": "code",
   "execution_count": 4,
   "metadata": {},
   "outputs": [],
   "source": [
    "#replace the NaNs with strings\n",
    "i=1\n",
    "for ind in df.index:\n",
    "    if isinstance(df['First Name'][ind] ,str) & isinstance(df['Last Name'][ind] ,str) :\n",
    "        #do nothing\n",
    "        pass #empty if statements confuse python\n",
    "    else :\n",
    "        df['First Name'][ind]='FirstName'+str(i)\n",
    "        df['Last Name'][ind]='LastName'+str(i)\n",
    "        i+=1"
   ]
  },
  {
   "cell_type": "code",
   "execution_count": 23,
   "metadata": {},
   "outputs": [],
   "source": [
    "import networkx as nx\n",
    "import matplotlib.pyplot as plt\n",
    "from datetime import timedelta\n",
    "from datetime import datetime\n",
    "\n",
    "\n",
    "G=nx.Graph()\n",
    "for nodei in df.index:    \n",
    "    nodeilabel= df['First Name'][nodei]+\" \"+df['Last Name'][nodei]\n",
    "    nodeitime=df['Connected On'][nodei]\n",
    "    nodeicomp=df['Company'][nodei]\n",
    "    for nodej in df.index:\n",
    "        if nodei!=nodej:\n",
    "            if nodeicomp==df['Company'][nodej]: #are the nodes from the same company?\n",
    "                G.add_edge(nodeilabel,df['First Name'][nodej]+\" \"+df['Last Name'][nodej])\n",
    "            date1=datetime.strptime(nodeitime, '%d %b %Y').date()\n",
    "            date2=datetime.strptime(df['Connected On'][nodej], '%d %b %Y').date()\n",
    "            if (abs(date2-date1)<timedelta(days=1)): #are the nodes from the same time?\n",
    "                G.add_edge(nodeilabel,df['First Name'][nodej]+\" \"+df['Last Name'][nodej])"
   ]
  },
  {
   "cell_type": "code",
   "execution_count": 24,
   "metadata": {},
   "outputs": [
    {
     "data": {
      "image/png": "[encoded data removed]",
      "text/plain": [
       "<Figure size 432x288 with 1 Axes>"
      ]
     },
     "metadata": {},
     "output_type": "display_data"
    }
   ],
   "source": [
    "nx.draw_kamada_kawai(G,with_labels=False)"
   ]
  },
  {
   "cell_type": "code",
   "execution_count": null,
   "metadata": {},
   "outputs": [],
   "source": [
    "df['Connected On'][nodei]"
   ]
  },
  {
   "cell_type": "code",
   "execution_count": 6,
   "metadata": {},
   "outputs": [
    {
     "data": {
      "text/plain": [
       "datetime.datetime(2020, 3, 7, 0, 0)"
      ]
     },
     "execution_count": 6,
     "metadata": {},
     "output_type": "execute_result"
    }
   ],
   "source": [
    "from datetime import datetime\n",
    "datetime.strptime(df['Connected On'][nodei], '%d %b %Y')"
   ]
  },
  {
   "cell_type": "code",
   "execution_count": null,
   "metadata": {},
   "outputs": [],
   "source": [
    "datetime.strptime(df['Connected On'][nodei], '%d %b %Y').date()-datetime.strptime(df['Connected On'][nodei-10], '%d %b %Y').date()"
   ]
  },
  {
   "cell_type": "code",
   "execution_count": null,
   "metadata": {},
   "outputs": [],
   "source": [
    "Out[46].Ticks"
   ]
  },
  {
   "cell_type": "code",
   "execution_count": null,
   "metadata": {},
   "outputs": [],
   "source": [
    "\n",
    "date1=datetime.strptime(df['Connected On'][nodei], '%d %b %Y').date()\n",
    "date2=datetime.strptime(df['Connected On'][nodej], '%d %b %Y').date()\n",
    "(date2-date1<timedelta(weeks=4))"
   ]
  },
  {
   "cell_type": "code",
   "execution_count": 22,
   "metadata": {},
   "outputs": [
    {
     "data": {
      "text/plain": [
       "datetime.timedelta(days=16)"
      ]
     },
     "execution_count": 22,
     "metadata": {},
     "output_type": "execute_result"
    }
   ],
   "source": [
    "abs(date1-date2)"
   ]
  },
  {
   "cell_type": "code",
   "execution_count": 16,
   "metadata": {},
   "outputs": [
    {
     "data": {
      "image/png": "[encoded data removed]",
      "text/plain": [
       "<Figure size 432x288 with 1 Axes>"
      ]
     },
     "metadata": {},
     "output_type": "display_data"
    }
   ],
   "source": [
    "G=nx.Graph()\n",
    "nx.draw(G)"
   ]
  },
  {
   "cell_type": "code",
   "execution_count": 30,
   "metadata": {
    "scrolled": true
   },
   "outputs": [
    {
     "name": "stdout",
     "output_type": "stream",
     "text": [
      "Top 20 nodes by degree:\n",
      "('John Dell', 30)\n",
      "('Dilusha Silva', 27)\n",
      "('Sue Robson', 26)\n",
      "('Simon Biggs', 26)\n",
      "('Edgar Basto Piamonte', 26)\n",
      "('Annabel Williamson GAICD', 25)\n",
      "('Mark Reynolds', 25)\n",
      "('Benjamin Stone', 25)\n",
      "('Sean Hood', 25)\n",
      "('David Walker', 25)\n",
      "('Joanna Elfving-Hwang', 24)\n",
      "('Kathrin Stroud', 24)\n",
      "('Anas Ghadouani', 24)\n",
      "('Eun-Jung Holden', 24)\n",
      "('Michael Bertolacci', 24)\n",
      "('Peter Dean', 24)\n",
      "('Rob Shannon', 24)\n",
      "('Claire Walker', 24)\n",
      "('Cristina Vulpe', 24)\n",
      "('Mitchell Chiew', 24)\n"
     ]
    }
   ],
   "source": [
    "#Credit: the following code is from https://programminghistorian.org/en/lessons/exploring-and-analyzing-network-data-with-python#centrality\n",
    "from operator import itemgetter\n",
    "\n",
    "degree_dict = dict(G.degree(G.nodes()))\n",
    "nx.set_node_attributes(G, degree_dict, 'degree')\n",
    "sorted_degree = sorted(degree_dict.items(), key=itemgetter(1), reverse=True)\n",
    "print(\"Top 20 nodes by degree:\")\n",
    "for d in sorted_degree[:20]:\n",
    "    print(d)"
   ]
  },
  {
   "cell_type": "code",
   "execution_count": 31,
   "metadata": {},
   "outputs": [],
   "source": [
    "betweenness_dict = nx.betweenness_centrality(G) # Run betweenness centrality\n",
    "eigenvector_dict = nx.eigenvector_centrality(G) # Run eigenvector centrality\n",
    "\n",
    "# Assign each to an attribute in your network\n",
    "nx.set_node_attributes(G, betweenness_dict, 'betweenness')\n",
    "nx.set_node_attributes(G, eigenvector_dict, 'eigenvector')"
   ]
  },
  {
   "cell_type": "code",
   "execution_count": 32,
   "metadata": {},
   "outputs": [
    {
     "name": "stdout",
     "output_type": "stream",
     "text": [
      "Top 20 nodes by betweenness centrality:\n",
      "('John Dell', 0.0059481443823080835)\n",
      "('Grant Douglas', 0.0038637519064565326)\n",
      "('Dilusha Silva', 0.003202846975088968)\n",
      "('Sue Robson', 0.0021860701576004067)\n",
      "('Simon Biggs', 0.0021860701576004067)\n",
      "('Benjamin Stone', 0.0021860701576004067)\n",
      "('Edgar Basto Piamonte', 0.0021860701576004067)\n",
      "('nariman mahdavi', 0.0012709710218607015)\n",
      "('Annabel Williamson GAICD', 0.0011184544992374173)\n",
      "('Mark Reynolds', 0.0011184544992374173)\n",
      "('Sean Hood', 0.0011184544992374173)\n",
      "('David Walker', 0.0011184544992374173)\n",
      "('Zhang Xin', 0.0011184544992374173)\n",
      "('Gaurav Singh', 0.0010167768174885613)\n",
      "('Hayley Mcgillivray', 0.0008769700050838841)\n",
      "('Jelena Markov', 0.0008769700050838841)\n",
      "('Phil Newman', 0.000762582613116421)\n",
      "('Brendan Florio', 0.0006609049313675648)\n",
      "('Jens Klump', 0.0006609049313675648)\n",
      "('Michael McWilliams', 0.0006609049313675648)\n"
     ]
    }
   ],
   "source": [
    "sorted_betweenness = sorted(betweenness_dict.items(), key=itemgetter(1), reverse=True)\n",
    "\n",
    "print(\"Top 20 nodes by betweenness centrality:\")\n",
    "for b in sorted_betweenness[:20]:\n",
    "    print(b)"
   ]
  },
  {
   "cell_type": "code",
   "execution_count": 33,
   "metadata": {},
   "outputs": [
    {
     "name": "stdout",
     "output_type": "stream",
     "text": [
      "Name: John Dell | Betweenness Centrality: 0.0059481443823080835 | Degree: 30\n",
      "Name: Grant Douglas | Betweenness Centrality: 0.0038637519064565326 | Degree: 19\n",
      "Name: Dilusha Silva | Betweenness Centrality: 0.003202846975088968 | Degree: 27\n",
      "Name: Sue Robson | Betweenness Centrality: 0.0021860701576004067 | Degree: 26\n",
      "Name: Simon Biggs | Betweenness Centrality: 0.0021860701576004067 | Degree: 26\n",
      "Name: Benjamin Stone | Betweenness Centrality: 0.0021860701576004067 | Degree: 25\n",
      "Name: Edgar Basto Piamonte | Betweenness Centrality: 0.0021860701576004067 | Degree: 26\n",
      "Name: nariman mahdavi | Betweenness Centrality: 0.0012709710218607015 | Degree: 14\n",
      "Name: Annabel Williamson GAICD | Betweenness Centrality: 0.0011184544992374173 | Degree: 25\n",
      "Name: Mark Reynolds | Betweenness Centrality: 0.0011184544992374173 | Degree: 25\n",
      "Name: Sean Hood | Betweenness Centrality: 0.0011184544992374173 | Degree: 25\n",
      "Name: David Walker | Betweenness Centrality: 0.0011184544992374173 | Degree: 25\n",
      "Name: Zhang Xin | Betweenness Centrality: 0.0011184544992374173 | Degree: 2\n",
      "Name: Gaurav Singh | Betweenness Centrality: 0.0010167768174885613 | Degree: 8\n",
      "Name: Hayley Mcgillivray | Betweenness Centrality: 0.0008769700050838841 | Degree: 15\n",
      "Name: Jelena Markov | Betweenness Centrality: 0.0008769700050838841 | Degree: 15\n",
      "Name: Phil Newman | Betweenness Centrality: 0.000762582613116421 | Degree: 7\n",
      "Name: Brendan Florio | Betweenness Centrality: 0.0006609049313675648 | Degree: 13\n",
      "Name: Jens Klump | Betweenness Centrality: 0.0006609049313675648 | Degree: 13\n",
      "Name: Michael McWilliams | Betweenness Centrality: 0.0006609049313675648 | Degree: 8\n"
     ]
    }
   ],
   "source": [
    "#First get the top 20 nodes by betweenness as a list\n",
    "top_betweenness = sorted_betweenness[:20]\n",
    "\n",
    "#Then find and print their degree\n",
    "for tb in top_betweenness: # Loop through top_betweenness\n",
    "    degree = degree_dict[tb[0]] # Use degree_dict to access a node's degree, see footnote 2\n",
    "    print(\"Name:\", tb[0], \"| Betweenness Centrality:\", tb[1], \"| Degree:\", degree)"
   ]
  },
  {
   "cell_type": "code",
   "execution_count": 35,
   "metadata": {},
   "outputs": [],
   "source": [
    "from networkx.algorithms import community #This part of networkx, for community detection, needs to be imported separately.\n",
    "communities = community.greedy_modularity_communities(G)"
   ]
  },
  {
   "cell_type": "code",
   "execution_count": 36,
   "metadata": {},
   "outputs": [],
   "source": [
    "modularity_dict = {} # Create a blank dictionary\n",
    "for i,c in enumerate(communities): # Loop through the list of communities, keeping track of the number for the community\n",
    "    for name in c: # Loop through each person in a community\n",
    "        modularity_dict[name] = i # Create an entry in the dictionary for the person, where the value is which group they belong to.\n",
    "\n",
    "# Now you can add modularity information like we did the other metrics\n",
    "nx.set_node_attributes(G, modularity_dict, 'modularity')"
   ]
  },
  {
   "cell_type": "code",
   "execution_count": 37,
   "metadata": {},
   "outputs": [
    {
     "name": "stdout",
     "output_type": "stream",
     "text": [
      "Modularity Class 0 Sorted by Eigenvector Centrality:\n",
      "Name: Dilusha Silva | Eigenvector Centrality: 0.2006224862442516\n",
      "Name: Sue Robson | Eigenvector Centrality: 0.200225924746069\n",
      "Name: Simon Biggs | Eigenvector Centrality: 0.200225924746069\n",
      "Name: Edgar Basto Piamonte | Eigenvector Centrality: 0.200225924746069\n",
      "Name: Benjamin Stone | Eigenvector Centrality: 0.19986431094964086\n"
     ]
    }
   ],
   "source": [
    "# First get a list of just the nodes in that class\n",
    "class0 = [n for n in G.nodes() if G.nodes[n]['modularity'] == 0]\n",
    "\n",
    "# Then create a dictionary of the eigenvector centralities of those nodes\n",
    "class0_eigenvector = {n:G.nodes[n]['eigenvector'] for n in class0}\n",
    "\n",
    "# Then sort that dictionary and print the first 5 results\n",
    "class0_sorted_by_eigenvector = sorted(class0_eigenvector.items(), key=itemgetter(1), reverse=True)\n",
    "\n",
    "print(\"Modularity Class 0 Sorted by Eigenvector Centrality:\")\n",
    "for node in class0_sorted_by_eigenvector[:5]:\n",
    "    print(\"Name:\", node[0], \"| Eigenvector Centrality:\", node[1])"
   ]
  },
  {
   "cell_type": "code",
   "execution_count": 38,
   "metadata": {},
   "outputs": [
    {
     "name": "stdout",
     "output_type": "stream",
     "text": [
      "Class 0: ['Lucas Lacasa', 'Sivarit Sultornsanee, Ph.D.', '炎 Tomas 黃', 'Zhang Xin', 'Simon Biggs', '思源 吉', 'Joanna Elfving-Hwang', 'Dilusha Silva', 'Claire Walker', 'Kathrin Stroud', 'David Walker', 'Kevin Xiao', 'Anas Ghadouani', 'YANG BAI', 'Mark Reynolds', 'Cristina Vulpe', 'Melinda Hodkiewicz', 'Mitchell Chiew', 'Sue Robson', 'Edgar Basto Piamonte', 'Jill Stajduhar GAICD', 'Joshua B. van Kampen MBA', 'Benjamin Stone', 'Xi Shen', 'Annabel Williamson GAICD', 'JP Barnard', 'Eun-Jung Holden', 'Mythreye Krishnan', 'Muhammad Hamza', '静 石', 'Sean Hood', 'Mark Holton', 'Michael Bertolacci', 'Anne Geiger De Feo', 'Tim Craske', 'Cheryl Praeger', 'Xiumin Li', 'Peter Dean', 'Rob Shannon']\n",
      "Class 1: ['Hayley Mcgillivray', 'nariman mahdavi', 'Nick Saunders', 'Brendan Florio', 'Jens Klump', 'Angus McFarlane', 'Ulrich Engelke', 'Margaux Le Vaillant', 'Jelena Markov', 'Grant Kopec', 'Mukhdeep Singh Manshahia (Dr.)', 'Hugo Le Breton', 'Ingo Fischer', 'Xinghuo Yu', 'Grant Douglas', 'Neil Francis', 'Alf Mazzitelli', 'Dr Robert Hough (GAICD)', 'Martin Paesold', 'Caroline Johnson']\n",
      "Class 2: ['Jingbo Wang', 'Arun Narayanan', 'Coert Du Plessis (杜康)', 'Gaurav Singh', 'Andrew Marxsen', 'Cherie van Wensveen', 'Kim Harmer', 'Peter Kasprzak', 'Margaret Jones PhD GAICD', 'Russell McChesney', 'Michael Lomman', 'Ken Green', 'Phil Newman', 'Inna Shibanova']\n",
      "Class 3: ['Mark Griffin', 'Vladimir Puzyrev', 'Ba-Ngu Vo', 'Paul Nicholls', 'Gabriel J. González Cáceres', 'Donna Bradley MAHRI', 'Victor Calo', 'Chris Moran', 'Ralph Andrzejak', 'Andrew Bell', 'Ryan Loxton', 'Bui Hoa']\n",
      "Class 4: ['Peter Langridge', 'Shilu HAN', 'Y.M. Lai', 'Paula Langley', 'Zhang Jie', 'Bonnie Law', 'Mark Stickells', 'FirstName1 LastName1', 'Danny Chiu']\n",
      "Class 5: ['Michael McWilliams', 'Deidre Willmott', 'Linda Kristjanson', 'Francky Fouedjio', 'Edgar Avalos', 'Craig Roy   FAICD', 'James Johnson', 'Jonathan Law']\n",
      "Class 6: ['Tianping Chen', 'Panos Argyrakis', 'Amit Mishra', 'Wei Lin', 'Takashi Shimada', 'Dimitris Kugiumtzis', 'Yaneer Bar-Yam', 'Jie Zhang']\n",
      "Class 7: ['John Dell', 'Philippe Faure', 'Dr. Kishor Kumar Keekan', 'Aamir Nawaz', 'Eric LUO', 'Pheona Fong', 'Robyn Owens']\n",
      "Class 8: ['Andrew McCulloch', 'Mitchell Neumann', 'Steve Bodon', 'Michael Clark', 'Holly Bridgwater', 'Richard Scott']\n",
      "Class 9: ['Cristian Carmeli', 'Victor Sreeram', 'Jane Pillow', 'Hang ZHOU', 'Ryan Faulds', 'Kevin Judd']\n",
      "Class 10: ['Tyler Bikaun', 'Ximena Aguirre ', 'Alesio Lanzara', 'Matthew Grant']\n",
      "Class 11: ['Alamin khan', 'Drisya Alex Thumba', 'Md Shakil Islam']\n",
      "Class 12: ['Ruth Boardman', 'Kylie Hollins', 'Moussa Reda Mansour, PhD']\n",
      "Class 13: ['Asghar Moeini', 'Uwe Aickelin', 'Chi K. Michael Tse']\n",
      "Class 14: ['Richard Diering', 'Pooya Darvehei', 'Sohel Ferdous']\n",
      "Class 15: ['张 海涛', 'Hello Community', 'Farzad Shafiei Dizaji']\n",
      "Class 16: ['Tamryn Barker', 'wei bian', 'Sebastian Oberst']\n",
      "Class 17: ['Vincent Piras', 'Lin Wang', 'Kai-kai Shen']\n",
      "Class 18: ['Tim Shanahan', 'Roland De Marco', 'Professor Max Lu AO DL FREng FAA FTSE']\n",
      "Class 19: ['Julie Sleep', 'Stan Miklavcic', 'Alison Harris']\n",
      "Class 20: ['Xiao Fan LIU', 'KS Tang', 'Kewei Wang']\n",
      "Class 21: ['Doris Lin', 'Steve Lawrence', 'Alex Wai']\n",
      "Class 22: ['Tom Ridsdill-Smith', 'Katharine McKenzie', 'Kyle Saltmarsh']\n",
      "Class 23: ['marjan abdechiri (Firouznia)', 'Robert Faff ', 'Anders Eriksson']\n",
      "Class 24: ['Yining Sun', 'Danny Wong', 'Nuwan Ganganath']\n",
      "Class 25: ['Gianluca Setti', 'Maoji Wang', 'Qingying Miao']\n",
      "Class 26: ['Marc Lefranc', '秉宏 汪', 'Luc Bergé']\n",
      "Class 27: ['Jian-Bo Wang', 'Reik Donner', 'Juergen Kurths']\n",
      "Class 28: ['Wlodzimierz Klonowski, PhD, DSc', 'Wlodzimierz Klonowski', 'Patrick Celka']\n",
      "Class 29: ['Jun Wang', 'Zhyky Zhao', 'Diego L. Guarín']\n"
     ]
    }
   ],
   "source": [
    "for i,c in enumerate(communities): # Loop through the list of communities\n",
    "    if len(c) > 2: # Filter out modularity classes with 2 or fewer nodes\n",
    "        print('Class '+str(i)+':', list(c)) # Print out the classes and their members"
   ]
  },
  {
   "cell_type": "code",
   "execution_count": null,
   "metadata": {},
   "outputs": [],
   "source": []
  }
 ],
 "metadata": {
  "kernelspec": {
   "display_name": "Python 3",
   "language": "python",
   "name": "python3"
  },
  "language_info": {
   "codemirror_mode": {
    "name": "ipython",
    "version": 3
   },
   "file_extension": ".py",
   "mimetype": "text/x-python",
   "name": "python",
   "nbconvert_exporter": "python",
   "pygments_lexer": "ipython3",
   "version": "3.7.4"
  }
 },
 "nbformat": 4,
 "nbformat_minor": 2
}
